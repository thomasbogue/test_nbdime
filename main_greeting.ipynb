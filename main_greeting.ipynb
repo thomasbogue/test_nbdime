{
 "cells": [
  {
   "cell_type": "markdown",
   "id": "5eaeddaf-b5b0-4ca3-803b-c3038034c09a",
   "metadata": {},
   "source": [
    "# THis program says hi"
   ]
  },
  {
   "cell_type": "code",
   "execution_count": 1,
   "id": "2a21de68-f5f0-4b2b-806d-664e4eac7166",
   "metadata": {},
   "outputs": [
    {
     "name": "stdout",
     "output_type": "stream",
     "text": [
      "hello\n"
     ]
    }
   ],
   "source": [
    "print(\"hello world\")"
   ]
  },
  {
   "cell_type": "code",
   "execution_count": 1,
   "id": "2f667860-d9ec-4daf-84ae-7d09518ec6ac",
   "metadata": {},
   "outputs": [
    {
     "name": "stdout",
     "output_type": "stream",
     "text": [
      "goodbye\n"
     ]
    }
   ],
   "source": [
    "print(\"goodbye\")"
   ]
  },
  {
   "cell_type": "code",
   "execution_count": null,
   "id": "641c3857-7764-4ba8-b2b0-567eed665c18",
   "metadata": {},
   "outputs": [],
   "source": []
  }
 ],
 "metadata": {
  "kernelspec": {
   "display_name": "dev",
   "language": "python",
   "name": "dev"
  },
  "language_info": {
   "codemirror_mode": {
    "name": "ipython",
    "version": 3
   },
   "file_extension": ".py",
   "mimetype": "text/x-python",
   "name": "python",
   "nbconvert_exporter": "python",
   "pygments_lexer": "ipython3",
   "version": "3.12.3"
  }
 },
 "nbformat": 4,
 "nbformat_minor": 5
}
